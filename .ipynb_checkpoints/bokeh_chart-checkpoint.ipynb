{
 "cells": [
  {
   "cell_type": "code",
   "execution_count": 2,
   "metadata": {
    "collapsed": false
   },
   "outputs": [],
   "source": [
    "import pandas as pd\n",
    "import numpy as np\n",
    "from bokeh.charts import Histogram, output_file, show\n",
    "from bokeh.io import output_notebook\n",
    "from bokeh.embed import components"
   ]
  },
  {
   "cell_type": "code",
   "execution_count": 5,
   "metadata": {
    "collapsed": false,
    "scrolled": true
   },
   "outputs": [],
   "source": [
    "#sample data\n",
    "ten = np.random.normal(2000,100,5000)\n",
    "ka = np.random.randint(1,10,5000)\n",
    "df = pd.DataFrame({'dpc点数':ten,'科名':ka})"
   ]
  },
  {
   "cell_type": "code",
   "execution_count": 6,
   "metadata": {
    "collapsed": false
   },
   "outputs": [
    {
     "data": {
      "text/html": [
       "<div>\n",
       "<table border=\"1\" class=\"dataframe\">\n",
       "  <thead>\n",
       "    <tr style=\"text-align: right;\">\n",
       "      <th></th>\n",
       "      <th>dpc点数</th>\n",
       "      <th>科名</th>\n",
       "    </tr>\n",
       "  </thead>\n",
       "  <tbody>\n",
       "    <tr>\n",
       "      <th>0</th>\n",
       "      <td>1948.570427</td>\n",
       "      <td>4</td>\n",
       "    </tr>\n",
       "    <tr>\n",
       "      <th>1</th>\n",
       "      <td>1975.997942</td>\n",
       "      <td>4</td>\n",
       "    </tr>\n",
       "    <tr>\n",
       "      <th>2</th>\n",
       "      <td>2141.673457</td>\n",
       "      <td>6</td>\n",
       "    </tr>\n",
       "    <tr>\n",
       "      <th>3</th>\n",
       "      <td>1988.017706</td>\n",
       "      <td>4</td>\n",
       "    </tr>\n",
       "    <tr>\n",
       "      <th>4</th>\n",
       "      <td>1808.530862</td>\n",
       "      <td>8</td>\n",
       "    </tr>\n",
       "    <tr>\n",
       "      <th>5</th>\n",
       "      <td>2013.236532</td>\n",
       "      <td>4</td>\n",
       "    </tr>\n",
       "    <tr>\n",
       "      <th>6</th>\n",
       "      <td>1882.328746</td>\n",
       "      <td>2</td>\n",
       "    </tr>\n",
       "    <tr>\n",
       "      <th>7</th>\n",
       "      <td>2068.571173</td>\n",
       "      <td>6</td>\n",
       "    </tr>\n",
       "    <tr>\n",
       "      <th>8</th>\n",
       "      <td>1880.213079</td>\n",
       "      <td>7</td>\n",
       "    </tr>\n",
       "    <tr>\n",
       "      <th>9</th>\n",
       "      <td>2044.362266</td>\n",
       "      <td>1</td>\n",
       "    </tr>\n",
       "  </tbody>\n",
       "</table>\n",
       "</div>"
      ],
      "text/plain": [
       "         dpc点数  科名\n",
       "0  1948.570427   4\n",
       "1  1975.997942   4\n",
       "2  2141.673457   6\n",
       "3  1988.017706   4\n",
       "4  1808.530862   8\n",
       "5  2013.236532   4\n",
       "6  1882.328746   2\n",
       "7  2068.571173   6\n",
       "8  1880.213079   7\n",
       "9  2044.362266   1"
      ]
     },
     "execution_count": 6,
     "metadata": {},
     "output_type": "execute_result"
    }
   ],
   "source": [
    "df.head(10)"
   ]
  },
  {
   "cell_type": "code",
   "execution_count": 7,
   "metadata": {
    "collapsed": false
   },
   "outputs": [
    {
     "data": {
      "text/html": [
       "\n",
       "    <div class=\"bk-root\">\n",
       "        <a href=\"http://bokeh.pydata.org\" target=\"_blank\" class=\"bk-logo bk-logo-small bk-logo-notebook\"></a>\n",
       "        <span id=\"d375924d-0a1a-4bb6-be06-ccd3a549f3f8\">Loading BokehJS ...</span>\n",
       "    </div>"
      ]
     },
     "metadata": {},
     "output_type": "display_data"
    },
    {
     "data": {
      "application/javascript": [
       "\n",
       "(function(global) {\n",
       "  function now() {\n",
       "    return new Date();\n",
       "  }\n",
       "\n",
       "  if (typeof (window._bokeh_onload_callbacks) === \"undefined\") {\n",
       "    window._bokeh_onload_callbacks = [];\n",
       "  }\n",
       "\n",
       "  function run_callbacks() {\n",
       "    window._bokeh_onload_callbacks.forEach(function(callback) { callback() });\n",
       "    delete window._bokeh_onload_callbacks\n",
       "    console.info(\"Bokeh: all callbacks have finished\");\n",
       "  }\n",
       "\n",
       "  function load_libs(js_urls, callback) {\n",
       "    window._bokeh_onload_callbacks.push(callback);\n",
       "    if (window._bokeh_is_loading > 0) {\n",
       "      console.log(\"Bokeh: BokehJS is being loaded, scheduling callback at\", now());\n",
       "      return null;\n",
       "    }\n",
       "    if (js_urls == null || js_urls.length === 0) {\n",
       "      run_callbacks();\n",
       "      return null;\n",
       "    }\n",
       "    console.log(\"Bokeh: BokehJS not loaded, scheduling load and callback at\", now());\n",
       "    window._bokeh_is_loading = js_urls.length;\n",
       "    for (var i = 0; i < js_urls.length; i++) {\n",
       "      var url = js_urls[i];\n",
       "      var s = document.createElement('script');\n",
       "      s.src = url;\n",
       "      s.async = false;\n",
       "      s.onreadystatechange = s.onload = function() {\n",
       "        window._bokeh_is_loading--;\n",
       "        if (window._bokeh_is_loading === 0) {\n",
       "          console.log(\"Bokeh: all BokehJS libraries loaded\");\n",
       "          run_callbacks()\n",
       "        }\n",
       "      };\n",
       "      s.onerror = function() {\n",
       "        console.warn(\"failed to load library \" + url);\n",
       "      };\n",
       "      console.log(\"Bokeh: injecting script tag for BokehJS library: \", url);\n",
       "      document.getElementsByTagName(\"head\")[0].appendChild(s);\n",
       "    }\n",
       "  };\n",
       "\n",
       "  var js_urls = ['https://cdn.pydata.org/bokeh/release/bokeh-0.12.0.min.js', 'https://cdn.pydata.org/bokeh/release/bokeh-widgets-0.12.0.min.js', 'https://cdn.pydata.org/bokeh/release/bokeh-compiler-0.12.0.min.js'];\n",
       "\n",
       "  var inline_js = [\n",
       "    function(Bokeh) {\n",
       "      Bokeh.set_log_level(\"info\");\n",
       "    },\n",
       "    \n",
       "    function(Bokeh) {\n",
       "      Bokeh.$(\"#d375924d-0a1a-4bb6-be06-ccd3a549f3f8\").text(\"BokehJS successfully loaded\");\n",
       "    },\n",
       "    function(Bokeh) {\n",
       "      console.log(\"Bokeh: injecting CSS: https://cdn.pydata.org/bokeh/release/bokeh-0.12.0.min.css\");\n",
       "      Bokeh.embed.inject_css(\"https://cdn.pydata.org/bokeh/release/bokeh-0.12.0.min.css\");\n",
       "      console.log(\"Bokeh: injecting CSS: https://cdn.pydata.org/bokeh/release/bokeh-widgets-0.12.0.min.css\");\n",
       "      Bokeh.embed.inject_css(\"https://cdn.pydata.org/bokeh/release/bokeh-widgets-0.12.0.min.css\");\n",
       "    }\n",
       "  ];\n",
       "\n",
       "  function run_inline_js() {\n",
       "    for (var i = 0; i < inline_js.length; i++) {\n",
       "      inline_js[i](window.Bokeh);\n",
       "    }\n",
       "  }\n",
       "\n",
       "  if (window._bokeh_is_loading === 0) {\n",
       "    console.log(\"Bokeh: BokehJS loaded, going straight to plotting\");\n",
       "    run_inline_js();\n",
       "  } else {\n",
       "    load_libs(js_urls, function() {\n",
       "      console.log(\"Bokeh: BokehJS plotting callback run at\", now());\n",
       "      run_inline_js();\n",
       "    });\n",
       "  }\n",
       "}(this));"
      ]
     },
     "metadata": {},
     "output_type": "display_data"
    },
    {
     "data": {
      "text/html": [
       "\n",
       "\n",
       "    <div class=\"bk-root\">\n",
       "        <div class=\"plotdiv\" id=\"4b2ef045-762c-4fc2-b7ca-384cc9ac4662\"></div>\n",
       "    </div>\n",
       "<script type=\"text/javascript\">\n",
       "  \n",
       "  (function(global) {\n",
       "    function now() {\n",
       "      return new Date();\n",
       "    }\n",
       "  \n",
       "    if (typeof (window._bokeh_onload_callbacks) === \"undefined\") {\n",
       "      window._bokeh_onload_callbacks = [];\n",
       "    }\n",
       "  \n",
       "    function run_callbacks() {\n",
       "      window._bokeh_onload_callbacks.forEach(function(callback) { callback() });\n",
       "      delete window._bokeh_onload_callbacks\n",
       "      console.info(\"Bokeh: all callbacks have finished\");\n",
       "    }\n",
       "  \n",
       "    function load_libs(js_urls, callback) {\n",
       "      window._bokeh_onload_callbacks.push(callback);\n",
       "      if (window._bokeh_is_loading > 0) {\n",
       "        console.log(\"Bokeh: BokehJS is being loaded, scheduling callback at\", now());\n",
       "        return null;\n",
       "      }\n",
       "      if (js_urls == null || js_urls.length === 0) {\n",
       "        run_callbacks();\n",
       "        return null;\n",
       "      }\n",
       "      console.log(\"Bokeh: BokehJS not loaded, scheduling load and callback at\", now());\n",
       "      window._bokeh_is_loading = js_urls.length;\n",
       "      for (var i = 0; i < js_urls.length; i++) {\n",
       "        var url = js_urls[i];\n",
       "        var s = document.createElement('script');\n",
       "        s.src = url;\n",
       "        s.async = false;\n",
       "        s.onreadystatechange = s.onload = function() {\n",
       "          window._bokeh_is_loading--;\n",
       "          if (window._bokeh_is_loading === 0) {\n",
       "            console.log(\"Bokeh: all BokehJS libraries loaded\");\n",
       "            run_callbacks()\n",
       "          }\n",
       "        };\n",
       "        s.onerror = function() {\n",
       "          console.warn(\"failed to load library \" + url);\n",
       "        };\n",
       "        console.log(\"Bokeh: injecting script tag for BokehJS library: \", url);\n",
       "        document.getElementsByTagName(\"head\")[0].appendChild(s);\n",
       "      }\n",
       "    };var element = document.getElementById(\"4b2ef045-762c-4fc2-b7ca-384cc9ac4662\");\n",
       "    if (element == null) {\n",
       "      console.log(\"Bokeh: ERROR: autoload.js configured with elementid '4b2ef045-762c-4fc2-b7ca-384cc9ac4662' but no matching script tag was found. \")\n",
       "      return false;\n",
       "    }\n",
       "  \n",
       "    var js_urls = [];\n",
       "  \n",
       "    var inline_js = [\n",
       "      function(Bokeh) {\n",
       "        Bokeh.$(function() {\n",
       "            var docs_json = {\"2a767a3e-7e37-4800-9f31-59b893177b57\":{\"roots\":{\"references\":[{\"attributes\":{\"fill_alpha\":{\"field\":\"fill_alpha\"},\"fill_color\":{\"field\":\"color\"},\"height\":{\"field\":\"height\",\"units\":\"data\"},\"line_color\":{\"field\":\"line_color\"},\"width\":{\"field\":\"width\",\"units\":\"data\"},\"x\":{\"field\":\"x\"},\"y\":{\"field\":\"y\"}},\"id\":\"fe3b14fb-8c8d-4f61-8dd7-f57b54a0affd\",\"type\":\"Rect\"},{\"attributes\":{\"data_source\":{\"id\":\"51d768f2-95a1-47af-bac8-fff3dd66c7ad\",\"type\":\"ColumnDataSource\"},\"glyph\":{\"id\":\"c0405342-1f36-461f-8580-b480fd440747\",\"type\":\"Rect\"},\"hover_glyph\":null,\"nonselection_glyph\":null,\"selection_glyph\":null},\"id\":\"7f611c2f-e44a-4c76-9d47-cf42c0cd71ed\",\"type\":\"GlyphRenderer\"},{\"attributes\":{\"callback\":null,\"column_names\":[\"line_color\",\"height\",\"label\",\"width\",\"line_alpha\",\"fill_alpha\",\"x\",\"y\",\"color\"],\"data\":{\"chart_index\":[\"(1775.1, 1849.0]\"],\"color\":[\"#f22c40\"],\"fill_alpha\":[0.8],\"height\":[265.0],\"label\":[\"(1775.1, 1849.0]\"],\"line_alpha\":[1.0],\"line_color\":[\"black\"],\"width\":[73.87206863788697],\"x\":[\"1812.05\"],\"y\":[132.5]}},\"id\":\"5f025746-25cc-4219-a227-80a52b0b1333\",\"type\":\"ColumnDataSource\"},{\"attributes\":{\"fill_alpha\":{\"field\":\"fill_alpha\"},\"fill_color\":{\"field\":\"color\"},\"height\":{\"field\":\"height\",\"units\":\"data\"},\"line_color\":{\"field\":\"line_color\"},\"width\":{\"field\":\"width\",\"units\":\"data\"},\"x\":{\"field\":\"x\"},\"y\":{\"field\":\"y\"}},\"id\":\"69ebac7b-458d-4eac-a025-b417db27af18\",\"type\":\"Rect\"},{\"attributes\":{\"axis_label\":\"dpc\\u70b9\\u6570\",\"formatter\":{\"id\":\"4db97d06-cb96-43b0-9d2a-45fe081244a6\",\"type\":\"BasicTickFormatter\"},\"plot\":{\"id\":\"a158cccc-e811-4cf4-bd33-8c553d457cfb\",\"subtype\":\"Chart\",\"type\":\"Plot\"},\"ticker\":{\"id\":\"8ab9b461-fcbd-45c5-be35-14acfe05bc68\",\"type\":\"BasicTicker\"}},\"id\":\"06f34f08-5c4b-4402-9323-eb97842de301\",\"type\":\"LinearAxis\"},{\"attributes\":{\"callback\":null,\"column_names\":[\"line_color\",\"height\",\"label\",\"width\",\"line_alpha\",\"fill_alpha\",\"x\",\"y\",\"color\"],\"data\":{\"chart_index\":[\"(1996.8, 2070.6]\"],\"color\":[\"#f22c40\"],\"fill_alpha\":[0.8],\"height\":[1374.0],\"label\":[\"(1996.8, 2070.6]\"],\"line_alpha\":[1.0],\"line_color\":[\"black\"],\"width\":[73.87206863788674],\"x\":[\"2033.6999999999998\"],\"y\":[687.0]}},\"id\":\"fab91065-b55f-4757-b7e3-ffb9c9e4411b\",\"type\":\"ColumnDataSource\"},{\"attributes\":{\"callback\":null,\"column_names\":[\"line_color\",\"height\",\"label\",\"width\",\"line_alpha\",\"fill_alpha\",\"x\",\"y\",\"color\"],\"data\":{\"chart_index\":[\"(1922.9, 1996.8]\"],\"color\":[\"#f22c40\"],\"fill_alpha\":[0.8],\"height\":[1281.0],\"label\":[\"(1922.9, 1996.8]\"],\"line_alpha\":[1.0],\"line_color\":[\"black\"],\"width\":[73.87206863788697],\"x\":[\"1959.85\"],\"y\":[640.5]}},\"id\":\"841a9d21-e5c5-4b39-b5db-3f0da359608a\",\"type\":\"ColumnDataSource\"},{\"attributes\":{\"active_drag\":\"auto\",\"active_scroll\":\"auto\",\"active_tap\":\"auto\",\"tools\":[{\"id\":\"d5681819-08e9-458f-ab08-fc1044264730\",\"type\":\"PanTool\"},{\"id\":\"82122647-3d6d-4a3a-81b1-134e1c447f6f\",\"type\":\"WheelZoomTool\"},{\"id\":\"d2b8b142-9f0c-4c08-ae59-d995bbaed602\",\"type\":\"BoxZoomTool\"},{\"id\":\"30d70cba-bf85-49ff-b46c-862f4dc348e9\",\"type\":\"SaveTool\"},{\"id\":\"f6bd921a-92e5-47d8-919f-693c4aaf3a42\",\"type\":\"ResetTool\"},{\"id\":\"4688d230-ae0d-49d7-9fce-c953fbfbf326\",\"type\":\"HelpTool\"}]},\"id\":\"351ccc62-26ec-497c-81ed-c63be90f23c8\",\"type\":\"Toolbar\"},{\"attributes\":{\"data_source\":{\"id\":\"8eb34f6b-a8ef-4cf2-a867-e51485e05aa6\",\"type\":\"ColumnDataSource\"},\"glyph\":{\"id\":\"3e2f0fd5-9231-4522-815f-a16d6804601e\",\"type\":\"Rect\"},\"hover_glyph\":null,\"nonselection_glyph\":null,\"selection_glyph\":null},\"id\":\"971718ba-8914-44b5-9d36-b8e299d6b356\",\"type\":\"GlyphRenderer\"},{\"attributes\":{\"plot\":{\"id\":\"a158cccc-e811-4cf4-bd33-8c553d457cfb\",\"subtype\":\"Chart\",\"type\":\"Plot\"}},\"id\":\"d5681819-08e9-458f-ab08-fc1044264730\",\"type\":\"PanTool\"},{\"attributes\":{\"plot\":{\"id\":\"a158cccc-e811-4cf4-bd33-8c553d457cfb\",\"subtype\":\"Chart\",\"type\":\"Plot\"}},\"id\":\"30d70cba-bf85-49ff-b46c-862f4dc348e9\",\"type\":\"SaveTool\"},{\"attributes\":{\"fill_alpha\":{\"field\":\"fill_alpha\"},\"fill_color\":{\"field\":\"color\"},\"height\":{\"field\":\"height\",\"units\":\"data\"},\"line_color\":{\"field\":\"line_color\"},\"width\":{\"field\":\"width\",\"units\":\"data\"},\"x\":{\"field\":\"x\"},\"y\":{\"field\":\"y\"}},\"id\":\"b976fc50-283c-4e5a-9dc8-116ae83f9551\",\"type\":\"Rect\"},{\"attributes\":{\"callback\":null,\"column_names\":[\"line_color\",\"height\",\"label\",\"width\",\"line_alpha\",\"fill_alpha\",\"x\",\"y\",\"color\"],\"data\":{\"chart_index\":[\"(1701.3, 1775.1]\"],\"color\":[\"#f22c40\"],\"fill_alpha\":[0.8],\"height\":[51.0],\"label\":[\"(1701.3, 1775.1]\"],\"line_alpha\":[1.0],\"line_color\":[\"black\"],\"width\":[73.87206863788697],\"x\":[\"1738.1999999999998\"],\"y\":[25.5]}},\"id\":\"efe3f9e2-eb7b-4d04-9b25-3ed3585e72bd\",\"type\":\"ColumnDataSource\"},{\"attributes\":{\"callback\":null,\"column_names\":[\"line_color\",\"height\",\"label\",\"width\",\"line_alpha\",\"fill_alpha\",\"x\",\"y\",\"color\"],\"data\":{\"chart_index\":[\"(2292.2, 2366.1]\"],\"color\":[\"#f22c40\"],\"fill_alpha\":[0.8],\"height\":[8.0],\"label\":[\"(2292.2, 2366.1]\"],\"line_alpha\":[1.0],\"line_color\":[\"black\"],\"width\":[73.87206863788697],\"x\":[\"2329.1499999999996\"],\"y\":[4.0]}},\"id\":\"51d768f2-95a1-47af-bac8-fff3dd66c7ad\",\"type\":\"ColumnDataSource\"},{\"attributes\":{\"data_source\":{\"id\":\"1236af02-1d79-4249-8484-746e9dea9e93\",\"type\":\"ColumnDataSource\"},\"glyph\":{\"id\":\"f321184b-3e43-43a8-bd5b-309d5b1fbc37\",\"type\":\"Rect\"},\"hover_glyph\":null,\"nonselection_glyph\":null,\"selection_glyph\":null},\"id\":\"26626964-72e0-466b-938e-b030ac135128\",\"type\":\"GlyphRenderer\"},{\"attributes\":{\"below\":[{\"id\":\"06f34f08-5c4b-4402-9323-eb97842de301\",\"type\":\"LinearAxis\"}],\"left\":[{\"id\":\"6d02217e-09d6-42e4-8737-e48e8720ede2\",\"type\":\"LinearAxis\"}],\"plot_width\":400,\"renderers\":[{\"id\":\"e2c76b9c-f195-4ddd-94ef-a8f4e865a121\",\"type\":\"BoxAnnotation\"},{\"id\":\"26626964-72e0-466b-938e-b030ac135128\",\"type\":\"GlyphRenderer\"},{\"id\":\"6ea8ee6b-efa4-4dad-9402-fc872dea1fbe\",\"type\":\"GlyphRenderer\"},{\"id\":\"d1bea31d-d78d-4dda-88be-dc891142709e\",\"type\":\"GlyphRenderer\"},{\"id\":\"12be906e-1385-4f9d-a72b-d65b33a26c89\",\"type\":\"GlyphRenderer\"},{\"id\":\"e836588e-bbfe-47c7-8f36-b24196d8db64\",\"type\":\"GlyphRenderer\"},{\"id\":\"c3a9077c-e62c-42de-9a06-69d721c6d4ee\",\"type\":\"GlyphRenderer\"},{\"id\":\"971718ba-8914-44b5-9d36-b8e299d6b356\",\"type\":\"GlyphRenderer\"},{\"id\":\"165967b9-3423-4a13-99b1-3d94a9edbe51\",\"type\":\"GlyphRenderer\"},{\"id\":\"3603712a-c53e-43a1-a213-72933414215d\",\"type\":\"GlyphRenderer\"},{\"id\":\"7f611c2f-e44a-4c76-9d47-cf42c0cd71ed\",\"type\":\"GlyphRenderer\"},{\"id\":\"4c63c7e0-fdfb-4639-a35e-0cf2bc04557c\",\"type\":\"Legend\"},{\"id\":\"06f34f08-5c4b-4402-9323-eb97842de301\",\"type\":\"LinearAxis\"},{\"id\":\"6d02217e-09d6-42e4-8737-e48e8720ede2\",\"type\":\"LinearAxis\"},{\"id\":\"98586088-7139-4aaa-9f32-31caabf81deb\",\"type\":\"Grid\"}],\"title\":{\"id\":\"09e21807-87f8-4bae-826f-bd0a662a8dff\",\"type\":\"Title\"},\"tool_events\":{\"id\":\"8be6f5a0-68c6-441a-9759-254301162289\",\"type\":\"ToolEvents\"},\"toolbar\":{\"id\":\"351ccc62-26ec-497c-81ed-c63be90f23c8\",\"type\":\"Toolbar\"},\"x_mapper_type\":\"auto\",\"x_range\":{\"id\":\"1a162643-f101-4877-aaa6-5212b5c13a52\",\"type\":\"Range1d\"},\"y_mapper_type\":\"auto\",\"y_range\":{\"id\":\"01c6a480-ba90-487b-8a59-7d1111a5c4c3\",\"type\":\"Range1d\"}},\"id\":\"a158cccc-e811-4cf4-bd33-8c553d457cfb\",\"subtype\":\"Chart\",\"type\":\"Plot\"},{\"attributes\":{\"callback\":null,\"column_names\":[\"line_color\",\"height\",\"label\",\"width\",\"line_alpha\",\"fill_alpha\",\"x\",\"y\",\"color\"],\"data\":{\"chart_index\":[\"[1627.4, 1701.3]\"],\"color\":[\"#f22c40\"],\"fill_alpha\":[0.8],\"height\":[7.0],\"label\":[\"[1627.4, 1701.3]\"],\"line_alpha\":[1.0],\"line_color\":[\"black\"],\"width\":[73.87206863788697],\"x\":[\"1664.35\"],\"y\":[3.5]}},\"id\":\"1236af02-1d79-4249-8484-746e9dea9e93\",\"type\":\"ColumnDataSource\"},{\"attributes\":{},\"id\":\"4db97d06-cb96-43b0-9d2a-45fe081244a6\",\"type\":\"BasicTickFormatter\"},{\"attributes\":{\"callback\":null,\"column_names\":[\"line_color\",\"height\",\"label\",\"width\",\"line_alpha\",\"fill_alpha\",\"x\",\"y\",\"color\"],\"data\":{\"chart_index\":[\"(2218.4, 2292.2]\"],\"color\":[\"#f22c40\"],\"fill_alpha\":[0.8],\"height\":[54.0],\"label\":[\"(2218.4, 2292.2]\"],\"line_alpha\":[1.0],\"line_color\":[\"black\"],\"width\":[73.87206863788697],\"x\":[\"2255.3\"],\"y\":[27.0]}},\"id\":\"afb6af39-c62e-455a-97ea-db44ab20c43d\",\"type\":\"ColumnDataSource\"},{\"attributes\":{\"dimension\":1,\"plot\":{\"id\":\"a158cccc-e811-4cf4-bd33-8c553d457cfb\",\"subtype\":\"Chart\",\"type\":\"Plot\"},\"ticker\":{\"id\":\"9c7b9ebf-77b9-4787-8a8e-0312398cc9c7\",\"type\":\"BasicTicker\"}},\"id\":\"98586088-7139-4aaa-9f32-31caabf81deb\",\"type\":\"Grid\"},{\"attributes\":{\"fill_alpha\":{\"field\":\"fill_alpha\"},\"fill_color\":{\"field\":\"color\"},\"height\":{\"field\":\"height\",\"units\":\"data\"},\"line_color\":{\"field\":\"line_color\"},\"width\":{\"field\":\"width\",\"units\":\"data\"},\"x\":{\"field\":\"x\"},\"y\":{\"field\":\"y\"}},\"id\":\"3e2f0fd5-9231-4522-815f-a16d6804601e\",\"type\":\"Rect\"},{\"attributes\":{\"callback\":null,\"column_names\":[\"line_color\",\"height\",\"label\",\"width\",\"line_alpha\",\"fill_alpha\",\"x\",\"y\",\"color\"],\"data\":{\"chart_index\":[\"(2144.5, 2218.4]\"],\"color\":[\"#f22c40\"],\"fill_alpha\":[0.8],\"height\":[302.0],\"label\":[\"(2144.5, 2218.4]\"],\"line_alpha\":[1.0],\"line_color\":[\"black\"],\"width\":[73.87206863788697],\"x\":[\"2181.45\"],\"y\":[151.0]}},\"id\":\"9d5b505e-e255-4c55-934f-cff650319ba6\",\"type\":\"ColumnDataSource\"},{\"attributes\":{\"fill_alpha\":{\"field\":\"fill_alpha\"},\"fill_color\":{\"field\":\"color\"},\"height\":{\"field\":\"height\",\"units\":\"data\"},\"line_color\":{\"field\":\"line_color\"},\"width\":{\"field\":\"width\",\"units\":\"data\"},\"x\":{\"field\":\"x\"},\"y\":{\"field\":\"y\"}},\"id\":\"f321184b-3e43-43a8-bd5b-309d5b1fbc37\",\"type\":\"Rect\"},{\"attributes\":{\"data_source\":{\"id\":\"5f025746-25cc-4219-a227-80a52b0b1333\",\"type\":\"ColumnDataSource\"},\"glyph\":{\"id\":\"84d77e16-f6e1-41e5-98ac-16bab3f652ca\",\"type\":\"Rect\"},\"hover_glyph\":null,\"nonselection_glyph\":null,\"selection_glyph\":null},\"id\":\"d1bea31d-d78d-4dda-88be-dc891142709e\",\"type\":\"GlyphRenderer\"},{\"attributes\":{\"plot\":{\"id\":\"a158cccc-e811-4cf4-bd33-8c553d457cfb\",\"subtype\":\"Chart\",\"type\":\"Plot\"}},\"id\":\"4688d230-ae0d-49d7-9fce-c953fbfbf326\",\"type\":\"HelpTool\"},{\"attributes\":{\"data_source\":{\"id\":\"9d5b505e-e255-4c55-934f-cff650319ba6\",\"type\":\"ColumnDataSource\"},\"glyph\":{\"id\":\"b6001222-7f79-43b8-9387-5d60405e73c3\",\"type\":\"Rect\"},\"hover_glyph\":null,\"nonselection_glyph\":null,\"selection_glyph\":null},\"id\":\"165967b9-3423-4a13-99b1-3d94a9edbe51\",\"type\":\"GlyphRenderer\"},{\"attributes\":{\"overlay\":{\"id\":\"e2c76b9c-f195-4ddd-94ef-a8f4e865a121\",\"type\":\"BoxAnnotation\"},\"plot\":{\"id\":\"a158cccc-e811-4cf4-bd33-8c553d457cfb\",\"subtype\":\"Chart\",\"type\":\"Plot\"}},\"id\":\"d2b8b142-9f0c-4c08-ae59-d995bbaed602\",\"type\":\"BoxZoomTool\"},{\"attributes\":{\"callback\":null,\"end\":2465.9235343189434,\"start\":1527.5764656810563},\"id\":\"1a162643-f101-4877-aaa6-5212b5c13a52\",\"type\":\"Range1d\"},{\"attributes\":{\"axis_label\":\"Count( Dpc\\u70b9\\u6570 )\",\"formatter\":{\"id\":\"ac84cfd6-d9ed-4e58-9ef7-e2afe3c962c9\",\"type\":\"BasicTickFormatter\"},\"plot\":{\"id\":\"a158cccc-e811-4cf4-bd33-8c553d457cfb\",\"subtype\":\"Chart\",\"type\":\"Plot\"},\"ticker\":{\"id\":\"9c7b9ebf-77b9-4787-8a8e-0312398cc9c7\",\"type\":\"BasicTicker\"}},\"id\":\"6d02217e-09d6-42e4-8737-e48e8720ede2\",\"type\":\"LinearAxis\"},{\"attributes\":{\"data_source\":{\"id\":\"afb6af39-c62e-455a-97ea-db44ab20c43d\",\"type\":\"ColumnDataSource\"},\"glyph\":{\"id\":\"fe3b14fb-8c8d-4f61-8dd7-f57b54a0affd\",\"type\":\"Rect\"},\"hover_glyph\":null,\"nonselection_glyph\":null,\"selection_glyph\":null},\"id\":\"3603712a-c53e-43a1-a213-72933414215d\",\"type\":\"GlyphRenderer\"},{\"attributes\":{\"data_source\":{\"id\":\"fab91065-b55f-4757-b7e3-ffb9c9e4411b\",\"type\":\"ColumnDataSource\"},\"glyph\":{\"id\":\"289a4836-6988-4d70-8282-5e8eeddad509\",\"type\":\"Rect\"},\"hover_glyph\":null,\"nonselection_glyph\":null,\"selection_glyph\":null},\"id\":\"c3a9077c-e62c-42de-9a06-69d721c6d4ee\",\"type\":\"GlyphRenderer\"},{\"attributes\":{\"fill_alpha\":{\"field\":\"fill_alpha\"},\"fill_color\":{\"field\":\"color\"},\"height\":{\"field\":\"height\",\"units\":\"data\"},\"line_color\":{\"field\":\"line_color\"},\"width\":{\"field\":\"width\",\"units\":\"data\"},\"x\":{\"field\":\"x\"},\"y\":{\"field\":\"y\"}},\"id\":\"84d77e16-f6e1-41e5-98ac-16bab3f652ca\",\"type\":\"Rect\"},{\"attributes\":{\"location\":\"top_left\",\"plot\":{\"id\":\"a158cccc-e811-4cf4-bd33-8c553d457cfb\",\"subtype\":\"Chart\",\"type\":\"Plot\"}},\"id\":\"4c63c7e0-fdfb-4639-a35e-0cf2bc04557c\",\"type\":\"Legend\"},{\"attributes\":{\"callback\":null,\"column_names\":[\"line_color\",\"height\",\"label\",\"width\",\"line_alpha\",\"fill_alpha\",\"x\",\"y\",\"color\"],\"data\":{\"chart_index\":[\"(1849.0, 1922.9]\"],\"color\":[\"#f22c40\"],\"fill_alpha\":[0.8],\"height\":[796.0],\"label\":[\"(1849.0, 1922.9]\"],\"line_alpha\":[1.0],\"line_color\":[\"black\"],\"width\":[73.87206863788674],\"x\":[\"1885.95\"],\"y\":[398.0]}},\"id\":\"c1f59eb2-bf1f-49f6-a94f-7c59f176fbfb\",\"type\":\"ColumnDataSource\"},{\"attributes\":{},\"id\":\"8be6f5a0-68c6-441a-9759-254301162289\",\"type\":\"ToolEvents\"},{\"attributes\":{\"fill_alpha\":{\"field\":\"fill_alpha\"},\"fill_color\":{\"field\":\"color\"},\"height\":{\"field\":\"height\",\"units\":\"data\"},\"line_color\":{\"field\":\"line_color\"},\"width\":{\"field\":\"width\",\"units\":\"data\"},\"x\":{\"field\":\"x\"},\"y\":{\"field\":\"y\"}},\"id\":\"c0405342-1f36-461f-8580-b480fd440747\",\"type\":\"Rect\"},{\"attributes\":{\"fill_alpha\":{\"field\":\"fill_alpha\"},\"fill_color\":{\"field\":\"color\"},\"height\":{\"field\":\"height\",\"units\":\"data\"},\"line_color\":{\"field\":\"line_color\"},\"width\":{\"field\":\"width\",\"units\":\"data\"},\"x\":{\"field\":\"x\"},\"y\":{\"field\":\"y\"}},\"id\":\"3b1ec82c-fa9e-4e9f-ad87-85c82e9e1d4c\",\"type\":\"Rect\"},{\"attributes\":{},\"id\":\"9c7b9ebf-77b9-4787-8a8e-0312398cc9c7\",\"type\":\"BasicTicker\"},{\"attributes\":{\"plot\":{\"id\":\"a158cccc-e811-4cf4-bd33-8c553d457cfb\",\"subtype\":\"Chart\",\"type\":\"Plot\"}},\"id\":\"f6bd921a-92e5-47d8-919f-693c4aaf3a42\",\"type\":\"ResetTool\"},{\"attributes\":{\"fill_alpha\":{\"field\":\"fill_alpha\"},\"fill_color\":{\"field\":\"color\"},\"height\":{\"field\":\"height\",\"units\":\"data\"},\"line_color\":{\"field\":\"line_color\"},\"width\":{\"field\":\"width\",\"units\":\"data\"},\"x\":{\"field\":\"x\"},\"y\":{\"field\":\"y\"}},\"id\":\"b6001222-7f79-43b8-9387-5d60405e73c3\",\"type\":\"Rect\"},{\"attributes\":{\"fill_alpha\":{\"field\":\"fill_alpha\"},\"fill_color\":{\"field\":\"color\"},\"height\":{\"field\":\"height\",\"units\":\"data\"},\"line_color\":{\"field\":\"line_color\"},\"width\":{\"field\":\"width\",\"units\":\"data\"},\"x\":{\"field\":\"x\"},\"y\":{\"field\":\"y\"}},\"id\":\"289a4836-6988-4d70-8282-5e8eeddad509\",\"type\":\"Rect\"},{\"attributes\":{},\"id\":\"8ab9b461-fcbd-45c5-be35-14acfe05bc68\",\"type\":\"BasicTicker\"},{\"attributes\":{\"data_source\":{\"id\":\"c1f59eb2-bf1f-49f6-a94f-7c59f176fbfb\",\"type\":\"ColumnDataSource\"},\"glyph\":{\"id\":\"69ebac7b-458d-4eac-a025-b417db27af18\",\"type\":\"Rect\"},\"hover_glyph\":null,\"nonselection_glyph\":null,\"selection_glyph\":null},\"id\":\"12be906e-1385-4f9d-a72b-d65b33a26c89\",\"type\":\"GlyphRenderer\"},{\"attributes\":{\"data_source\":{\"id\":\"841a9d21-e5c5-4b39-b5db-3f0da359608a\",\"type\":\"ColumnDataSource\"},\"glyph\":{\"id\":\"b976fc50-283c-4e5a-9dc8-116ae83f9551\",\"type\":\"Rect\"},\"hover_glyph\":null,\"nonselection_glyph\":null,\"selection_glyph\":null},\"id\":\"e836588e-bbfe-47c7-8f36-b24196d8db64\",\"type\":\"GlyphRenderer\"},{\"attributes\":{\"callback\":null,\"column_names\":[\"line_color\",\"height\",\"label\",\"width\",\"line_alpha\",\"fill_alpha\",\"x\",\"y\",\"color\"],\"data\":{\"chart_index\":[\"(2070.6, 2144.5]\"],\"color\":[\"#f22c40\"],\"fill_alpha\":[0.8],\"height\":[862.0],\"label\":[\"(2070.6, 2144.5]\"],\"line_alpha\":[1.0],\"line_color\":[\"black\"],\"width\":[73.87206863788697],\"x\":[\"2107.55\"],\"y\":[431.0]}},\"id\":\"8eb34f6b-a8ef-4cf2-a867-e51485e05aa6\",\"type\":\"ColumnDataSource\"},{\"attributes\":{\"plot\":{\"id\":\"a158cccc-e811-4cf4-bd33-8c553d457cfb\",\"subtype\":\"Chart\",\"type\":\"Plot\"}},\"id\":\"82122647-3d6d-4a3a-81b1-134e1c447f6f\",\"type\":\"WheelZoomTool\"},{\"attributes\":{\"data_source\":{\"id\":\"efe3f9e2-eb7b-4d04-9b25-3ed3585e72bd\",\"type\":\"ColumnDataSource\"},\"glyph\":{\"id\":\"3b1ec82c-fa9e-4e9f-ad87-85c82e9e1d4c\",\"type\":\"Rect\"},\"hover_glyph\":null,\"nonselection_glyph\":null,\"selection_glyph\":null},\"id\":\"6ea8ee6b-efa4-4dad-9402-fc872dea1fbe\",\"type\":\"GlyphRenderer\"},{\"attributes\":{\"plot\":null,\"text\":\"\\u30c6\\u30b9\\u30c8\"},\"id\":\"09e21807-87f8-4bae-826f-bd0a662a8dff\",\"type\":\"Title\"},{\"attributes\":{\"callback\":null,\"end\":1511.4},\"id\":\"01c6a480-ba90-487b-8a59-7d1111a5c4c3\",\"type\":\"Range1d\"},{\"attributes\":{\"bottom_units\":\"screen\",\"fill_alpha\":{\"value\":0.5},\"fill_color\":{\"value\":\"lightgrey\"},\"left_units\":\"screen\",\"level\":\"overlay\",\"line_alpha\":{\"value\":1.0},\"line_color\":{\"value\":\"black\"},\"line_dash\":[4,4],\"line_width\":{\"value\":2},\"plot\":null,\"render_mode\":\"css\",\"right_units\":\"screen\",\"top_units\":\"screen\"},\"id\":\"e2c76b9c-f195-4ddd-94ef-a8f4e865a121\",\"type\":\"BoxAnnotation\"},{\"attributes\":{},\"id\":\"ac84cfd6-d9ed-4e58-9ef7-e2afe3c962c9\",\"type\":\"BasicTickFormatter\"}],\"root_ids\":[\"a158cccc-e811-4cf4-bd33-8c553d457cfb\"]},\"title\":\"Bokeh Application\",\"version\":\"0.12.0\"}};\n",
       "            var render_items = [{\"docid\":\"2a767a3e-7e37-4800-9f31-59b893177b57\",\"elementid\":\"4b2ef045-762c-4fc2-b7ca-384cc9ac4662\",\"modelid\":\"a158cccc-e811-4cf4-bd33-8c553d457cfb\",\"notebook_comms_target\":\"bf2d03e0-c5e0-445b-a94f-def13d938b5a\"}];\n",
       "            \n",
       "            Bokeh.embed.embed_items(docs_json, render_items);\n",
       "        });\n",
       "      },\n",
       "      function(Bokeh) {\n",
       "      }\n",
       "    ];\n",
       "  \n",
       "    function run_inline_js() {\n",
       "      for (var i = 0; i < inline_js.length; i++) {\n",
       "        inline_js[i](window.Bokeh);\n",
       "      }\n",
       "    }\n",
       "  \n",
       "    if (window._bokeh_is_loading === 0) {\n",
       "      console.log(\"Bokeh: BokehJS loaded, going straight to plotting\");\n",
       "      run_inline_js();\n",
       "    } else {\n",
       "      load_libs(js_urls, function() {\n",
       "        console.log(\"Bokeh: BokehJS plotting callback run at\", now());\n",
       "        run_inline_js();\n",
       "      });\n",
       "    }\n",
       "  }(this));\n",
       "</script>"
      ]
     },
     "metadata": {},
     "output_type": "display_data"
    },
    {
     "data": {
      "text/html": [
       "<p><code>&lt;Bokeh Notebook handle for <strong>In[7]</strong>&gt;</code></p>"
      ],
      "text/plain": [
       "<bokeh.io._CommsHandle at 0x2029f8cea90>"
      ]
     },
     "execution_count": 7,
     "metadata": {},
     "output_type": "execute_result"
    }
   ],
   "source": [
    "hist = Histogram(df, values='dpc点数', title=\"テスト\", plot_width=400,bins = 10)\n",
    "output_notebook()\n",
    "show(hist)\n",
    "\n"
   ]
  },
  {
   "cell_type": "code",
   "execution_count": null,
   "metadata": {
    "collapsed": true
   },
   "outputs": [],
   "source": []
  }
 ],
 "metadata": {
  "kernelspec": {
   "display_name": "Python 3",
   "language": "python",
   "name": "python3"
  },
  "language_info": {
   "codemirror_mode": {
    "name": "ipython",
    "version": 3
   },
   "file_extension": ".py",
   "mimetype": "text/x-python",
   "name": "python",
   "nbconvert_exporter": "python",
   "pygments_lexer": "ipython3",
   "version": "3.5.1"
  }
 },
 "nbformat": 4,
 "nbformat_minor": 0
}
